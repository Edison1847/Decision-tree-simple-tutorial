{
  "nbformat": 4,
  "nbformat_minor": 0,
  "metadata": {
    "colab": {
      "provenance": [],
      "authorship_tag": "ABX9TyMkx+pG7y8D3nHCYOZC/x9L",
      "include_colab_link": true
    },
    "kernelspec": {
      "name": "python3",
      "display_name": "Python 3"
    },
    "language_info": {
      "name": "python"
    }
  },
  "cells": [
    {
      "cell_type": "markdown",
      "metadata": {
        "id": "view-in-github",
        "colab_type": "text"
      },
      "source": [
        "<a href=\"https://colab.research.google.com/github/Edison1847/Decision-tree-simple-tutorial/blob/main/Decision%20tree.ipynb\" target=\"_parent\"><img src=\"https://colab.research.google.com/assets/colab-badge.svg\" alt=\"Open In Colab\"/></a>"
      ]
    },
    {
      "cell_type": "markdown",
      "source": [
        "# **1. Import libraries**"
      ],
      "metadata": {
        "id": "wrFRPDCz_t5g"
      }
    },
    {
      "cell_type": "code",
      "source": [
        "import numpy as np # linear algebra\n",
        "import pandas as pd # data processing, CSV file I/O (e.g. pd.read_csv)\n",
        "import matplotlib.pyplot as plt # data visualization\n",
        "import seaborn as sns # statistical data visualization\n",
        "import graphviz\n",
        "from google.colab import drive\n",
        "from sklearn.model_selection import train_test_split\n",
        "from sklearn.preprocessing import LabelEncoder\n",
        "from sklearn.metrics import accuracy_score\n",
        "from sklearn.tree import DecisionTreeClassifier\n",
        "from sklearn.metrics import confusion_matrix\n",
        "from sklearn import tree\n",
        "from sklearn.metrics import classification_report\n",
        "%matplotlib\n"
      ],
      "metadata": {
        "id": "pDabpPhV_ojF"
      },
      "execution_count": null,
      "outputs": []
    },
    {
      "cell_type": "markdown",
      "source": [
        "Ignore warnings"
      ],
      "metadata": {
        "id": "Ue3oRrMfAYYf"
      }
    },
    {
      "cell_type": "code",
      "source": [
        "import warnings\n",
        "warnings.filterwarnings('ignore')"
      ],
      "metadata": {
        "id": "pD0Scy6GAT_q"
      },
      "execution_count": null,
      "outputs": []
    },
    {
      "cell_type": "markdown",
      "source": [
        "# **2. Import the training dataset**"
      ],
      "metadata": {
        "id": "WSqvSah6Ahtu"
      }
    },
    {
      "cell_type": "code",
      "source": [
        "drive.mount('/content/drive/')\n",
        "%cd /content/drive/My Drive/Colab Notebooks/Decision Tree/\n",
        "data = 'datasheetHD.csv'\n",
        "df = pd.read_csv(data)\n",
        "df.head()"
      ],
      "metadata": {
        "id": "b8JdGrHLAdYH"
      },
      "execution_count": null,
      "outputs": []
    },
    {
      "cell_type": "markdown",
      "source": [
        "**Summary of the data set**"
      ],
      "metadata": {
        "id": "YMDBoE4LCdsP"
      }
    },
    {
      "cell_type": "code",
      "source": [
        "df.info()"
      ],
      "metadata": {
        "id": "6NuOgkV9BZLB"
      },
      "execution_count": null,
      "outputs": []
    },
    {
      "cell_type": "markdown",
      "source": [
        "1. There are 11 categories/features (age-ST slope) and the last category(Ishchemic heart disease) is the target variable (prediction)\n",
        "2. There are data of 1190 individuals / rows"
      ],
      "metadata": {
        "id": "iX37Xr9WCUnn"
      }
    },
    {
      "cell_type": "markdown",
      "source": [
        "---\n",
        "### **We are not doing data preprocessing to make the tutorial simple**\n",
        "---"
      ],
      "metadata": {
        "id": "Vr0JypliC9du"
      }
    },
    {
      "cell_type": "markdown",
      "source": [
        "# **3. Declare feature vectors (training data) and target variable (prediction)**"
      ],
      "metadata": {
        "id": "F1RkqnTtCvow"
      }
    },
    {
      "cell_type": "code",
      "source": [
        "X = df.drop(['Ischemic Heart Disease'], axis=1)\n",
        "\n",
        "y = df['Ischemic Heart Disease']"
      ],
      "metadata": {
        "id": "mL9IjoAFCs_4"
      },
      "execution_count": null,
      "outputs": []
    },
    {
      "cell_type": "markdown",
      "source": [
        "# **4. Split data into separate training and test set**"
      ],
      "metadata": {
        "id": "nT4k4qjXDnRx"
      }
    },
    {
      "cell_type": "code",
      "source": [
        "# split X and y into training and testing sets\n",
        "X_train, X_test, y_train, y_test = train_test_split(X, y, test_size = 0.33, random_state = 0)"
      ],
      "metadata": {
        "id": "yr0sCtodDjtB"
      },
      "execution_count": null,
      "outputs": []
    },
    {
      "cell_type": "code",
      "source": [
        "# check the shape of X_train and X_test\n",
        "X_train.shape, X_test.shape"
      ],
      "metadata": {
        "id": "9qmifvgODr9t"
      },
      "execution_count": null,
      "outputs": []
    },
    {
      "cell_type": "code",
      "source": [
        "X_train.head()"
      ],
      "metadata": {
        "id": "OYGkEmUeDwyg"
      },
      "execution_count": null,
      "outputs": []
    },
    {
      "cell_type": "code",
      "source": [
        "X_test.head()"
      ],
      "metadata": {
        "id": "M6bAq2igDyyb"
      },
      "execution_count": null,
      "outputs": []
    },
    {
      "cell_type": "markdown",
      "source": [
        "**-- We now have training and test set ready for model building. --**"
      ],
      "metadata": {
        "id": "t0HLBb3LELaX"
      }
    },
    {
      "cell_type": "markdown",
      "source": [
        "# **5. Initiate Decision Tree**"
      ],
      "metadata": {
        "id": "jHiGe-2aEPAQ"
      }
    },
    {
      "cell_type": "code",
      "source": [
        "# instantiate the DecisionTreeClassifier model with criterion gini index\n",
        "clf_gini = DecisionTreeClassifier(criterion='gini', max_depth=3, random_state=0)\n",
        "\n",
        "# fit the model\n",
        "clf_gini.fit(X_train, y_train)"
      ],
      "metadata": {
        "id": "N-PMLTBvD06r"
      },
      "execution_count": null,
      "outputs": []
    },
    {
      "cell_type": "markdown",
      "source": [
        "# **6. Prediction**"
      ],
      "metadata": {
        "id": "bzClPxbREVNH"
      }
    },
    {
      "cell_type": "code",
      "source": [
        "y_pred_gini = clf_gini.predict(X_test)\n",
        "# Check accuracy score with criterion gini index\n",
        "print('Model accuracy score with criterion gini index: {0:0.4f}'. format(accuracy_score(y_test, y_pred_gini)))"
      ],
      "metadata": {
        "id": "cQ4BsBqPERt7"
      },
      "execution_count": null,
      "outputs": []
    },
    {
      "cell_type": "markdown",
      "source": [
        "**Comparing the train-set and test-set accuracy to check for overfitting.**"
      ],
      "metadata": {
        "id": "cGAJb-qkEg94"
      }
    },
    {
      "cell_type": "code",
      "source": [
        "y_pred_train_gini = clf_gini.predict(X_train)\n",
        "print('Training-set accuracy score: {0:0.4f}'. format(accuracy_score(y_train, y_pred_train_gini)))"
      ],
      "metadata": {
        "id": "-c27D5ylEd_q"
      },
      "execution_count": null,
      "outputs": []
    },
    {
      "cell_type": "markdown",
      "source": [
        "**Check for overfitting and underfitting**"
      ],
      "metadata": {
        "id": "L6yq0TT6Emu_"
      }
    },
    {
      "cell_type": "code",
      "source": [
        "# print the scores on training and test set\n",
        "print('Training set score: {:.4f}'.format(clf_gini.score(X_train, y_train)))\n",
        "print('Test set score: {:.4f}'.format(clf_gini.score(X_test, y_test)))"
      ],
      "metadata": {
        "id": "oZv9-ZL6Ej0C"
      },
      "execution_count": null,
      "outputs": []
    },
    {
      "cell_type": "markdown",
      "source": [
        "# **7. Visualize decision-trees**"
      ],
      "metadata": {
        "id": "_r-RXZJ8Es0_"
      }
    },
    {
      "cell_type": "code",
      "source": [
        "plt.figure(figsize=(12,8))\n",
        "tree.plot_tree(clf_gini.fit(X_train, y_train))"
      ],
      "metadata": {
        "id": "MDjIgD-JEp7a"
      },
      "execution_count": null,
      "outputs": []
    },
    {
      "cell_type": "code",
      "source": [
        "dot_data = tree.export_graphviz(clf_gini, out_file=None,\n",
        "                              feature_names=X_train.columns,\n",
        "                              class_names=True,\n",
        "                              filled=True, rounded=True,\n",
        "                              special_characters=True)\n",
        "graph = graphviz.Source(dot_data)\n",
        "graph.render(\"Decision_Tree_Graph\", format=\"png\")\n",
        "graph"
      ],
      "metadata": {
        "id": "fvvRfT0yEv_I"
      },
      "execution_count": null,
      "outputs": []
    },
    {
      "cell_type": "markdown",
      "source": [
        "# **8. Check the Accuracy**"
      ],
      "metadata": {
        "id": "9wZwOYtzE4RA"
      }
    },
    {
      "cell_type": "code",
      "source": [
        "# Print the Confusion Matrix and slice it into four pieces\n",
        "cm = confusion_matrix(y_test, y_pred_gini)\n",
        "print('Confusion matrix\\n\\n', cm)"
      ],
      "metadata": {
        "id": "kUOBGe-LEysv"
      },
      "execution_count": null,
      "outputs": []
    },
    {
      "cell_type": "markdown",
      "source": [
        "**Get the accuracy report**"
      ],
      "metadata": {
        "id": "MPsJ4IjfFCVB"
      }
    },
    {
      "cell_type": "code",
      "source": [
        "print(classification_report(y_test, y_pred_gini))"
      ],
      "metadata": {
        "id": "SLrKuj7DE7-N"
      },
      "execution_count": null,
      "outputs": []
    },
    {
      "cell_type": "markdown",
      "source": [
        "**Specificity**"
      ],
      "metadata": {
        "id": "DH9iezt_FICh"
      }
    },
    {
      "cell_type": "code",
      "source": [
        "tn, fp, fn, tp = confusion_matrix(y_test, y_pred_gini).ravel()\n",
        "specificity = tn / (tn+fp)\n",
        "specificity"
      ],
      "metadata": {
        "id": "Xi1qBrZEFEYg"
      },
      "execution_count": null,
      "outputs": []
    },
    {
      "cell_type": "markdown",
      "source": [
        "**Sensitivity**"
      ],
      "metadata": {
        "id": "cWbzs0RpFUoi"
      }
    },
    {
      "cell_type": "code",
      "source": [
        "sensitivity = tp / (tp + fn)\n",
        "sensitivity"
      ],
      "metadata": {
        "id": "oA2kC_yWFN_e"
      },
      "execution_count": null,
      "outputs": []
    },
    {
      "cell_type": "markdown",
      "source": [
        "# **ROC & AUC**"
      ],
      "metadata": {
        "id": "oD_vYQcp6wGo"
      }
    },
    {
      "cell_type": "code",
      "source": [
        "import matplotlib.pyplot as plt\n",
        "from sklearn.metrics import roc_curve, auc, roc_auc_score\n",
        "\n",
        "# Get the false positive rate, true positive rate, and thresholds from the ROC curve.\n",
        "fpr, tpr, _ = roc_curve(y_test, y_pred_gini)\n",
        "\n",
        "# Calculate the area under the ROC curve.\n",
        "roc_auc = auc(fpr, tpr)\n",
        "\n",
        "# Plot the ROC curve.\n",
        "plt.figure()\n",
        "plt.plot(fpr, tpr, label=\"ROC curve (area = %0.2f)\" % roc_auc)\n",
        "\n",
        "# Plot a diagonal line from (0, 0) to (1, 1).\n",
        "plt.plot([0, 1], [0, 1], \"k-\")\n",
        "\n",
        "# Set the limits of the plot.\n",
        "plt.xlim([0.0, 1.0])\n",
        "plt.ylim([0.0, 1.05])\n",
        "\n",
        "# Set the labels of the axes.\n",
        "plt.xlabel(\"False Positive Rate\")\n",
        "plt.ylabel(\"True Positive Rate\")\n",
        "\n",
        "# Set the title of the plot.\n",
        "plt.title(\"Receiver operating characteristic\")\n",
        "\n",
        "# Add a legend.\n",
        "plt.legend(loc=\"lower right\")\n",
        "\n",
        "# Show the plot.\n",
        "plt.show()"
      ],
      "metadata": {
        "id": "TwoeNwJmFXwT"
      },
      "execution_count": null,
      "outputs": []
    },
    {
      "cell_type": "code",
      "source": [],
      "metadata": {
        "id": "mOmbC07O5SyC"
      },
      "execution_count": null,
      "outputs": []
    },
    {
      "cell_type": "code",
      "source": [],
      "metadata": {
        "id": "arGubEct_eEm"
      },
      "execution_count": null,
      "outputs": []
    },
    {
      "cell_type": "code",
      "source": [],
      "metadata": {
        "id": "oqyTC_XK_oqh"
      },
      "execution_count": null,
      "outputs": []
    },
    {
      "cell_type": "code",
      "source": [],
      "metadata": {
        "id": "Xxd_Xb-a_sDx"
      },
      "execution_count": null,
      "outputs": []
    },
    {
      "cell_type": "code",
      "source": [],
      "metadata": {
        "id": "WuGDh4An_t1I"
      },
      "execution_count": null,
      "outputs": []
    }
  ]
}